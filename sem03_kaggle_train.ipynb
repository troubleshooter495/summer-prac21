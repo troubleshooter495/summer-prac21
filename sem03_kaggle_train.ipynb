{
  "nbformat": 4,
  "nbformat_minor": 0,
  "metadata": {
    "kernelspec": {
      "display_name": "Python 3",
      "language": "python",
      "name": "python3"
    },
    "language_info": {
      "codemirror_mode": {
        "name": "ipython",
        "version": 3
      },
      "file_extension": ".py",
      "mimetype": "text/x-python",
      "name": "python",
      "nbconvert_exporter": "python",
      "pygments_lexer": "ipython3",
      "version": "3.7.6"
    },
    "colab": {
      "name": "sem03_kaggle_train.ipynb",
      "provenance": []
    }
  },
  "cells": [
    {
      "cell_type": "markdown",
      "metadata": {
        "id": "1AmYfHiwLhEM"
      },
      "source": [
        "## 1. Создание предсказательной модели и оценивание её качества."
      ]
    },
    {
      "cell_type": "markdown",
      "metadata": {
        "id": "wHSQFL23LhEQ"
      },
      "source": [
        "Считаем данные из скачанной открытой гугл-папки"
      ]
    },
    {
      "cell_type": "code",
      "metadata": {
        "id": "iFJv5J1TLhER"
      },
      "source": [
        "import os\n",
        "import pandas as pd\n",
        "path = r'C:\\Users\\elena\\Desktop\\ВШЭ\\MiniCourse\\dropbox' \n",
        "data = {}\n",
        "\n",
        "Data = []\n",
        "Target = []\n",
        "\n",
        "i=0\n",
        "for dir_entry in sorted(os.listdir(path)):\n",
        "    dir_entry_path = os.path.join(path, dir_entry)\n",
        "    if os.path.isfile(dir_entry_path):\n",
        "        i+=1\n",
        "        with open(dir_entry_path, 'r') as my_file:\n",
        "            print(dir_entry_path.split(\"\\\\\")[-1])\n",
        "            try:\n",
        "                df = pd.read_csv(my_file, delimiter=';')\n",
        "                if df.shape[1] == 5:\n",
        "                    Data.append(df)\n",
        "                    Target.append(dir_entry_path.split(\"\\\\\")[-1])\n",
        "            except UnicodeDecodeError:\n",
        "                print(dir_entry_path.split(\"\\\\\")[-1])\n",
        "                pass\n",
        "\n",
        "for dir_entry in sorted(os.listdir(path)):\n",
        "    dir_entry_path = os.path.join(path, dir_entry)\n",
        "    if os.path.isfile(dir_entry_path):\n",
        "        i+=1\n",
        "        with open(dir_entry_path, 'r') as my_file:\n",
        "            print(dir_entry_path.split(\"\\\\\")[-1])\n",
        "            try:\n",
        "                df = pd.read_csv(my_file, delimiter=',')\n",
        "                if df.shape[1] == 5:\n",
        "                    Data.append(df)\n",
        "                    Target.append(dir_entry_path.split(\"\\\\\")[-1])\n",
        "            except UnicodeDecodeError:\n",
        "                print(dir_entry_path.split(\"\\\\\")[-1])\n",
        "                pass"
      ],
      "execution_count": null,
      "outputs": []
    },
    {
      "cell_type": "markdown",
      "metadata": {
        "id": "vR5-BX74LhET"
      },
      "source": [
        "Переведём типы движений в числа"
      ]
    },
    {
      "cell_type": "code",
      "metadata": {
        "id": "KpzmE5pDLhET"
      },
      "source": [
        "classes = {'тояни' : 0, 'месте' : 0, 'одьб' : 1, 'аг' : 1, 'ег' : 2, 'елоси' : 3, 'естн' : 4, 'одъ' : 4, \n",
        "           'втомо' : 5, 'ашин' : 5, 'метро' : 6, 'лектро' : 7, 'амок' : 8}\n",
        "\n",
        "answers = {'стояние' : 0, 'ходьба' : 1, 'бег' : 2, 'велосипед' : 3, 'лестница' : 4, \n",
        "           'автомобиль' : 5, 'метро' : 6, 'электросамокат' : 7, 'самокат' : 8}\n",
        "\n",
        "# стояние, ходьба, велосипед, лестница, бег, подъем, подъём, автомобиль, электросамокат, машина, метро"
      ],
      "execution_count": null,
      "outputs": []
    },
    {
      "cell_type": "code",
      "metadata": {
        "id": "yKSCBxV0LhEU"
      },
      "source": [
        "def get_action(name):\n",
        "    for act in classes:\n",
        "        if name.lower().find(act) != -1:\n",
        "            return classes[act]\n",
        "    return -1"
      ],
      "execution_count": null,
      "outputs": []
    },
    {
      "cell_type": "markdown",
      "metadata": {
        "id": "NCsXRIIaLhEV"
      },
      "source": [
        "Обработаем данные и извлечём признаки для создания модели"
      ]
    },
    {
      "cell_type": "code",
      "metadata": {
        "scrolled": true,
        "id": "VzW0FZ5YLhEV"
      },
      "source": [
        "import pandas as pd\n",
        "from matplotlib import pylab as plt\n",
        "%pylab inline\n",
        "\n",
        "def process_data(df, comma=True, cut=True, name = \"\", a=-1, b=-1):\n",
        "    \n",
        "# обрезаем начало и конец трека\n",
        "    if a == -1:\n",
        "        st = 1250\n",
        "    else:\n",
        "        st = a\n",
        "            \n",
        "    if b == -1:\n",
        "        end = -1250\n",
        "    else:\n",
        "        end = b\n",
        "        \n",
        "    if cut == False:\n",
        "        st = 0\n",
        "        end = -1\n",
        "\n",
        "    print(name)\n",
        "#     fig, ((ax1, ax2)) = plt.subplots(nrows=1, ncols=2, figsize=(15,6))\n",
        "\n",
        "# приводим данные с Iphone к нужному формату\n",
        "    if comma is True:\n",
        "        df = df.applymap(lambda x: str(x).replace(',','.'))\n",
        "        \n",
        "        try:\n",
        "            df['gFx'] = df['gFx'].astype(float)\n",
        "            df['gFy'] = df['gFy'].astype(float)\n",
        "            df['gFz'] = df['gFz'].astype(float)\n",
        "        except KeyError:\n",
        "            return -1\n",
        "\n",
        "# рисуем графики ускорений\n",
        "#     if cut:\n",
        "#         ax1.plot(df.iloc[st:end]['gFx'],c='g')\n",
        "#         ax1.plot(df.iloc[st:end]['gFy'],c='r')\n",
        "#         ax1.plot(df.iloc[st:end]['gFz'],c='b')\n",
        "#     else:\n",
        "#         ax1.plot(df['gFx'],c='g')\n",
        "#         ax1.plot(df['gFy'],c='r')\n",
        "#         ax1.plot(df['gFz'],c='b')\n",
        "        \n",
        "# вычисляем модуль (норму) ускорения и рисуем его\n",
        "    Acc = (df.gFx[st:end] ** 2 + df.gFy[st:end] ** 2 + df.gFz[st:end] ** 2) ** 0.5\n",
        "#     ax2.plot(Acc)\n",
        "#     plt.show()\n",
        "\n",
        "# можно различить многие действия по амплитуде ускорения\n",
        "    amplitude = Acc.max() - Acc.min()\n",
        "    print(' АМПЛИТУДА:', Acc.max()-Acc.min())\n",
        "    print()\n",
        "    \n",
        "    return amplitude\n",
        "\n",
        "Ampl = []\n",
        "for df, target in zip(Data,Target):\n",
        "    Ampl.append(process_data(df, name=target))"
      ],
      "execution_count": null,
      "outputs": []
    },
    {
      "cell_type": "markdown",
      "metadata": {
        "id": "rRCh0LDqLhEW"
      },
      "source": [
        "Напишем функцию для получения предсказания (здесь используется только амплитуда, но в вашем итоговом решении будет больше признаков)"
      ]
    },
    {
      "cell_type": "code",
      "metadata": {
        "id": "c1MMoOTALhEX"
      },
      "source": [
        "def get_prediction(ampl):\n",
        "    if ampl < 1:\n",
        "        return 0 #стояние\n",
        "    if ampl >  5:\n",
        "        return 2 #бег\n",
        "    return 1 #ходьба"
      ],
      "execution_count": null,
      "outputs": []
    },
    {
      "cell_type": "code",
      "metadata": {
        "id": "_OQgdXhyLhEX",
        "outputId": "31cbd7ed-ca0b-4832-e02f-b7d4aee4becb"
      },
      "source": [
        "len(Data), len(Ampl), len(Target)"
      ],
      "execution_count": null,
      "outputs": [
        {
          "data": {
            "text/plain": [
              "(615, 615, 615)"
            ]
          },
          "execution_count": 73,
          "metadata": {},
          "output_type": "execute_result"
        }
      ]
    },
    {
      "cell_type": "markdown",
      "metadata": {
        "id": "RwOyG5DDLhEY"
      },
      "source": [
        "Некоторые амплитуды посчитаны некорректно, уберём соответствующие треки."
      ]
    },
    {
      "cell_type": "code",
      "metadata": {
        "id": "-4j0Y5-yLhEY"
      },
      "source": [
        "good_indices = [i for i in range(len(Ampl)) if not (math.isnan(Ampl[i]) or Ampl[i]==1)]\n",
        "\n",
        "GoodData   = [Data[i] for i in good_indices]\n",
        "GoodAmpl   = [Ampl[i] for i in good_indices]\n",
        "GoodTarget = [Target[i] for i in good_indices]"
      ],
      "execution_count": null,
      "outputs": []
    },
    {
      "cell_type": "code",
      "metadata": {
        "id": "WWgJsxHfLhEY",
        "outputId": "0f5c02de-c848-4449-a915-7101ab5dfb07"
      },
      "source": [
        "len(Data), len(GoodData)"
      ],
      "execution_count": null,
      "outputs": [
        {
          "data": {
            "text/plain": [
              "(615, 558)"
            ]
          },
          "execution_count": 76,
          "metadata": {},
          "output_type": "execute_result"
        }
      ]
    },
    {
      "cell_type": "markdown",
      "metadata": {
        "id": "SuCHg_vrLhEZ"
      },
      "source": [
        "Создадим таблицу, содержащую номер трека, правильный ответ и предсказание."
      ]
    },
    {
      "cell_type": "code",
      "metadata": {
        "id": "1hiF1mU_LhEZ",
        "outputId": "d15370d5-4c16-440f-c84d-5ab2e9d25d53"
      },
      "source": [
        "prediction = [get_prediction(a) for a in GoodAmpl]\n",
        "answer = [get_action(target) for target in GoodTarget]\n",
        "\n",
        "Res = pd.DataFrame({'track_num' : np.arange(len(GoodData)), 'answer' : answer, 'action' : prediction})\n",
        "Res.head(10)"
      ],
      "execution_count": null,
      "outputs": [
        {
          "data": {
            "text/html": [
              "<div>\n",
              "<style scoped>\n",
              "    .dataframe tbody tr th:only-of-type {\n",
              "        vertical-align: middle;\n",
              "    }\n",
              "\n",
              "    .dataframe tbody tr th {\n",
              "        vertical-align: top;\n",
              "    }\n",
              "\n",
              "    .dataframe thead th {\n",
              "        text-align: right;\n",
              "    }\n",
              "</style>\n",
              "<table border=\"1\" class=\"dataframe\">\n",
              "  <thead>\n",
              "    <tr style=\"text-align: right;\">\n",
              "      <th></th>\n",
              "      <th>track_num</th>\n",
              "      <th>answer</th>\n",
              "      <th>action</th>\n",
              "    </tr>\n",
              "  </thead>\n",
              "  <tbody>\n",
              "    <tr>\n",
              "      <th>0</th>\n",
              "      <td>0</td>\n",
              "      <td>0</td>\n",
              "      <td>1</td>\n",
              "    </tr>\n",
              "    <tr>\n",
              "      <th>1</th>\n",
              "      <td>1</td>\n",
              "      <td>0</td>\n",
              "      <td>1</td>\n",
              "    </tr>\n",
              "    <tr>\n",
              "      <th>2</th>\n",
              "      <td>2</td>\n",
              "      <td>0</td>\n",
              "      <td>1</td>\n",
              "    </tr>\n",
              "    <tr>\n",
              "      <th>3</th>\n",
              "      <td>3</td>\n",
              "      <td>0</td>\n",
              "      <td>0</td>\n",
              "    </tr>\n",
              "    <tr>\n",
              "      <th>4</th>\n",
              "      <td>4</td>\n",
              "      <td>0</td>\n",
              "      <td>0</td>\n",
              "    </tr>\n",
              "    <tr>\n",
              "      <th>5</th>\n",
              "      <td>5</td>\n",
              "      <td>3</td>\n",
              "      <td>1</td>\n",
              "    </tr>\n",
              "    <tr>\n",
              "      <th>6</th>\n",
              "      <td>6</td>\n",
              "      <td>3</td>\n",
              "      <td>1</td>\n",
              "    </tr>\n",
              "    <tr>\n",
              "      <th>7</th>\n",
              "      <td>7</td>\n",
              "      <td>1</td>\n",
              "      <td>1</td>\n",
              "    </tr>\n",
              "    <tr>\n",
              "      <th>8</th>\n",
              "      <td>8</td>\n",
              "      <td>1</td>\n",
              "      <td>1</td>\n",
              "    </tr>\n",
              "    <tr>\n",
              "      <th>9</th>\n",
              "      <td>9</td>\n",
              "      <td>4</td>\n",
              "      <td>2</td>\n",
              "    </tr>\n",
              "  </tbody>\n",
              "</table>\n",
              "</div>"
            ],
            "text/plain": [
              "   track_num  answer  action\n",
              "0          0       0       1\n",
              "1          1       0       1\n",
              "2          2       0       1\n",
              "3          3       0       0\n",
              "4          4       0       0\n",
              "5          5       3       1\n",
              "6          6       3       1\n",
              "7          7       1       1\n",
              "8          8       1       1\n",
              "9          9       4       2"
            ]
          },
          "execution_count": 77,
          "metadata": {},
          "output_type": "execute_result"
        }
      ]
    },
    {
      "cell_type": "markdown",
      "metadata": {
        "id": "kWK3QdVsLhEZ"
      },
      "source": [
        "Проверим качество нашей модели на тренировочных данных (на данных из открытой папки)"
      ]
    },
    {
      "cell_type": "code",
      "metadata": {
        "id": "3VZsw5dVLhEZ",
        "outputId": "2acb9641-5a7e-42b4-e971-a6e02532ad2d"
      },
      "source": [
        "from sklearn.metrics import accuracy_score\n",
        "\n",
        "accuracy_score(Res['answer'], Res['action'])"
      ],
      "execution_count": null,
      "outputs": [
        {
          "data": {
            "text/plain": [
              "0.5663082437275986"
            ]
          },
          "execution_count": 78,
          "metadata": {},
          "output_type": "execute_result"
        }
      ]
    },
    {
      "cell_type": "markdown",
      "metadata": {
        "id": "N3bpj6KjLhEa"
      },
      "source": [
        "В тренировочной папке количество треков разных типов несбалансировано, поэтому для корректной оценки качества нашей модели будем проверять качество модели на таком же распределении треков, как и в тестовой выборке:\n",
        "\n",
        "* 18% - стояние\n",
        "* 18 % - ходьба\n",
        "* 18 % - бег\n",
        "* 18 % - подъем по лестнице\n",
        "* 18 % - велосипед\n",
        "* 10% - другие типы движений"
      ]
    },
    {
      "cell_type": "code",
      "metadata": {
        "id": "3QzMHQcYLhEa",
        "outputId": "b5622efc-9473-47e4-ff53-7d969e7182e5"
      },
      "source": [
        "Res['answer'].value_counts(), len(Res)"
      ],
      "execution_count": null,
      "outputs": [
        {
          "data": {
            "text/plain": [
              "( 1    138\n",
              "  0    136\n",
              "  2    108\n",
              "  4     84\n",
              "  3     32\n",
              " -1     23\n",
              "  5     21\n",
              "  6      8\n",
              "  7      8\n",
              " Name: answer, dtype: int64,\n",
              " 558)"
            ]
          },
          "execution_count": 79,
          "metadata": {},
          "output_type": "execute_result"
        }
      ]
    },
    {
      "cell_type": "code",
      "metadata": {
        "id": "riWzM1dLLhEb",
        "outputId": "90fdafba-7970-4d97-d45b-eca2fb25178f"
      },
      "source": [
        "import random\n",
        "\n",
        "ind_0 = random.sample(Res[Res.answer == 0].index.tolist(), 32)\n",
        "ind_1 = random.sample(Res[Res.answer == 1].index.tolist(), 32)\n",
        "ind_2 = random.sample(Res[Res.answer == 2].index.tolist(), 32)\n",
        "ind_3 = random.sample(Res[Res.answer == 3].index.tolist(), 32)\n",
        "ind_4 = random.sample(Res[Res.answer == 4].index.tolist(), 32)\n",
        "ind_5 = random.sample(Res[Res.answer == 5].index.tolist(), 6)\n",
        "ind_6 = random.sample(Res[Res.answer == 6].index.tolist(), 6)\n",
        "ind_7 = random.sample(Res[Res.answer == 7].index.tolist(), 6)\n",
        "\n",
        "ind_balanced = ind_0 + ind_1 + ind_2 + ind_3 + ind_4 + ind_5 + ind_6 + ind_7 \n",
        "len(ind_balanced)"
      ],
      "execution_count": null,
      "outputs": [
        {
          "data": {
            "text/plain": [
              "178"
            ]
          },
          "execution_count": 80,
          "metadata": {},
          "output_type": "execute_result"
        }
      ]
    },
    {
      "cell_type": "code",
      "metadata": {
        "id": "aBYt-9RfLhEb"
      },
      "source": [
        "Res_balanced = Res.iloc[ind_balanced]"
      ],
      "execution_count": null,
      "outputs": []
    },
    {
      "cell_type": "code",
      "metadata": {
        "id": "SnpycFwFLhEb",
        "outputId": "8e3b1a81-4cb2-47b4-c573-4f9514f1f596"
      },
      "source": [
        "accuracy_score(Res_balanced['answer'], Res_balanced['action'])"
      ],
      "execution_count": null,
      "outputs": [
        {
          "data": {
            "text/plain": [
              "0.4606741573033708"
            ]
          },
          "execution_count": 82,
          "metadata": {},
          "output_type": "execute_result"
        }
      ]
    }
  ]
}